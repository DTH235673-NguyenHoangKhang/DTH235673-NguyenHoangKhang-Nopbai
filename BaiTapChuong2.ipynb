{
 "cells": [
  {
   "cell_type": "code",
   "execution_count": null,
   "id": "7bc12b9f",
   "metadata": {},
   "outputs": [
    {
     "name": "stdout",
     "output_type": "stream",
     "text": [
      "Chu vi = 31.41592653589793\n",
      "Diện tích= 25.0\n"
     ]
    }
   ],
   "source": [
    "#Bai1\n",
    "import math \n",
    " \n",
    "try: \n",
    "    r=float(input(\"Mời bạn nhập bán kính hình tròn:\")) \n",
    "    cv=2*math.pi*r \n",
    "    dt=r**2 \n",
    "    print(\"Chu vi =\",cv) \n",
    "    print(\"Diện tích=\",dt) \n",
    "except: \n",
    "    print(\"Lỗi rồi!\")\n",
    "    "
   ]
  },
  {
   "cell_type": "code",
   "execution_count": null,
   "id": "13dbb458",
   "metadata": {},
   "outputs": [
    {
     "name": "stdout",
     "output_type": "stream",
     "text": [
      "1 : 2 : 30\n"
     ]
    }
   ],
   "source": [
    "#Bai2\n",
    "t=int(input(\"Nhập số giây:\")) \n",
    "hour=(t//3600)%24 \n",
    "minute=(t%3600)//60 \n",
    "second=(t%3600)%60 \n",
    "print(hour,\":\",minute,\":\",second)"
   ]
  },
  {
   "cell_type": "code",
   "execution_count": null,
   "id": "c837e8f1",
   "metadata": {},
   "outputs": [],
   "source": [
    "#Bai3\n",
    "toan=float(input(\"Nhập điểm Toán:\")) \n",
    "ly=float(input(\"Nhập điểm lý:\")) \n",
    "hoa=float(input(\"Nhập điểm hóa:\")) \n",
    "dtb=(toan+ly+hoa)/3 \n",
    "print(\"Điểm trung bình=\",dtb) \n",
    "print(\"Điểm trung bình=\",round(dtb,2))"
   ]
  }
 ],
 "metadata": {
  "kernelspec": {
   "display_name": "Python 3",
   "language": "python",
   "name": "python3"
  },
  "language_info": {
   "codemirror_mode": {
    "name": "ipython",
    "version": 3
   },
   "file_extension": ".py",
   "mimetype": "text/x-python",
   "name": "python",
   "nbconvert_exporter": "python",
   "pygments_lexer": "ipython3",
   "version": "3.13.7"
  }
 },
 "nbformat": 4,
 "nbformat_minor": 5
}
