{
 "cells": [
  {
   "cell_type": "code",
   "execution_count": 1,
   "id": "98a7f7ca",
   "metadata": {},
   "outputs": [
    {
     "name": "stdout",
     "output_type": "stream",
     "text": [
      "Chao cac ban\n"
     ]
    }
   ],
   "source": [
    "#Viet chuong trinh python in cau \"Chao cac ban\"\n",
    "print(\"Chao cac ban\")"
   ]
  },
  {
   "cell_type": "code",
   "execution_count": 2,
   "id": "957493e2",
   "metadata": {},
   "outputs": [
    {
     "name": "stdout",
     "output_type": "stream",
     "text": [
      "Nguyen Hoang Khang\n"
     ]
    }
   ],
   "source": [
    "#Viet chuong trinh python in Ho va Ten ra man hinh\n",
    "print(\"Nguyen Hoang Khang\")"
   ]
  },
  {
   "cell_type": "code",
   "execution_count": 1,
   "id": "54ad7d04",
   "metadata": {},
   "outputs": [
    {
     "name": "stdout",
     "output_type": "stream",
     "text": [
      "Mình về mình có nhớ ta\n",
      "\n",
      "Mười lăm năm ấy thiết tha mặn nồng.\n",
      "\n",
      "Mình về mình có nhớ không?\n",
      "\n",
      "Nhìn cây nhớ núi, nhìn ssong nớ nguồn.\n"
     ]
    }
   ],
   "source": [
    "#BTchuong1_6\n",
    "print('Mình về mình có nhớ ta\\n')\n",
    "print('Mười lăm năm ấy thiết tha mặn nồng.\\n')\n",
    "print('Mình về mình có nhớ không?\\n')\n",
    "print('Nhìn cây nhớ núi, nhìn ssong nớ nguồn.')"
   ]
  },
  {
   "cell_type": "code",
   "execution_count": 1,
   "id": "433316d9",
   "metadata": {},
   "outputs": [
    {
     "name": "stdout",
     "output_type": "stream",
     "text": [
      "--f=c:\\Users\\KHANG\\AppData\\Roaming\\jupyter\\runtime\\kernel-v3a0f3cd40838af0ae32f4c708f329f72279f69f51.json\n"
     ]
    }
   ],
   "source": [
    "#BTchuong1_7\n",
    "import sys\n",
    "\n",
    "if len(sys.argv) > 1:\n",
    "    print(\" \".join(sys.argv[1:]))\n",
    "else:\n",
    "    print(\"Không có chuỗi nào được nhập từ dòng lệnh.\")"
   ]
  },
  {
   "cell_type": "code",
   "execution_count": null,
   "id": "fcc5b244",
   "metadata": {},
   "outputs": [
    {
     "name": "stdout",
     "output_type": "stream",
     "text": [
      "\n",
      "**** \n",
      "*  * \n",
      "*  * \n",
      "****\n"
     ]
    }
   ],
   "source": [
    "#BTChuong1_8\n",
    "a='\\n****'\n",
    "b='\\n*  *'\n",
    "print(a,b,b,a)"
   ]
  },
  {
   "cell_type": "code",
   "execution_count": 44,
   "id": "2f33eb21",
   "metadata": {},
   "outputs": [
    {
     "name": "stdout",
     "output_type": "stream",
     "text": [
      "*********\n",
      "*********\n",
      "*********\n",
      "*********\n"
     ]
    }
   ],
   "source": [
    "#BTCHuong1 _ 9\n",
    "a='*********'\n",
    "for i in range(4):\n",
    "    print(a)\n"
   ]
  },
  {
   "cell_type": "code",
   "execution_count": 45,
   "id": "845d624e",
   "metadata": {},
   "outputs": [
    {
     "name": "stdout",
     "output_type": "stream",
     "text": [
      "\n",
      "     *      \n",
      "    ***     \n",
      "  *******   \n",
      "    ***     \n",
      "   *****    \n",
      "*********** \n",
      "    * *     \n",
      "    * *    \n"
     ]
    }
   ],
   "source": [
    "#BTChuong1_10\n",
    "a='\\n     *     '\n",
    "b='\\n    * *    '\n",
    "c='\\n    ***    '\n",
    "d='\\n   *****   '\n",
    "e='\\n  *******  '\n",
    "f='\\n***********'\n",
    "print(a,c,e,c,d,f,b,b)"
   ]
  }
 ],
 "metadata": {
  "kernelspec": {
   "display_name": "Python 3",
   "language": "python",
   "name": "python3"
  },
  "language_info": {
   "codemirror_mode": {
    "name": "ipython",
    "version": 3
   },
   "file_extension": ".py",
   "mimetype": "text/x-python",
   "name": "python",
   "nbconvert_exporter": "python",
   "pygments_lexer": "ipython3",
   "version": "3.13.7"
  }
 },
 "nbformat": 4,
 "nbformat_minor": 5
}
