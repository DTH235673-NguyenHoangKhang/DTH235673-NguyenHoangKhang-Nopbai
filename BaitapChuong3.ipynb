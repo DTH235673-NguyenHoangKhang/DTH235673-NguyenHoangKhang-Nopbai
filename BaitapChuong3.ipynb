{
 "cells": [
  {
   "cell_type": "code",
   "execution_count": 20,
   "id": "3df690eb",
   "metadata": {},
   "outputs": [
    {
     "name": "stdout",
     "output_type": "stream",
     "text": [
      "Chuong trinh kiem tra nam nhuan\n",
      "Nam 2025 khong nhuan\n"
     ]
    }
   ],
   "source": [
    "#Cau1\n",
    "print(\"Chuong trinh kiem tra nam nhuan\")\n",
    "year=int(input(\"Moi nhap vao 1 nam: \"))\n",
    "if (year%4==0 and year%100!=0) or (year%400==0):\n",
    "    print(f\"Nam {year} la nam nhuan\")\n",
    "else:\n",
    "    print(f\"Nam {year} khong nhuan\")"
   ]
  },
  {
   "cell_type": "code",
   "execution_count": 21,
   "id": "20d57661",
   "metadata": {},
   "outputs": [
    {
     "name": "stdout",
     "output_type": "stream",
     "text": [
      "Chuong trinh dem so ngay trong thang\n",
      "Thang 2 nam 2024 co 29 ngay\n"
     ]
    }
   ],
   "source": [
    "#cau2\n",
    "print(\"Chuong trinh dem so ngay trong thang\")\n",
    "month=int(input(\"Moi nhap vao thang (1-12): \"))\n",
    "if month in [1,3,5,7,8,10,12]:\n",
    "    print(f\"Thang {month} co 31 ngay\")\n",
    "elif month in [4,6,9,11]:\n",
    "    print(f\"Thang {month} co 30 ngay\")\n",
    "elif month==2:\n",
    "    year=int(input(\"Moi nhap vao nam: \"))\n",
    "    if (year%4==0 and year%100!=0) or (year%400==0):\n",
    "        print(f\"Thang {month} nam {year} co 29 ngay\")\n",
    "    else:\n",
    "        print(f\"Thang {month} nam {year} co 28 ngay\")"
   ]
  },
  {
   "cell_type": "code",
   "execution_count": 22,
   "id": "bde73280",
   "metadata": {},
   "outputs": [
    {
     "name": "stdout",
     "output_type": "stream",
     "text": [
      "Chuong trinh giai phuong trinh bac 2\n",
      "Phuong trinh vo nghiem\n"
     ]
    }
   ],
   "source": [
    "#Cau3\n",
    "from math import sqrt\n",
    "print(\"Chuong trinh giai phuong trinh bac 2\")\n",
    "a=float(input(\"Moi nhap he so a: \"))\n",
    "b=float(input(\"Moi nhap he so b: \"))    \n",
    "c=float(input(\"Moi nhap he so c: \"))\n",
    "if a==0:\n",
    "    if b==0:\n",
    "        if c==0:\n",
    "            print(\"Phuong trinh vo so nghiem\")\n",
    "        else:\n",
    "            print(\"Phuong trinh vo nghiem\")\n",
    "    else:\n",
    "        x=-c/b\n",
    "        print(f\"Phuong trinh co 1 nghiem x={x}\")\n",
    "else:\n",
    "    delta = b*b-4*a*c\n",
    "    if delta<0:\n",
    "        print(\"Phuong trinh vo nghiem\")\n",
    "    elif delta==0:\n",
    "        x=-b/(2*a)\n",
    "        print(f\"Phuong trinh co nghiem kep x1=x2={x}\")\n",
    "    else:\n",
    "        x1=(-b+sqrt(delta))/(2*a)\n",
    "        x2=(-b-sqrt(delta))/(2*a)\n",
    "        print(f\"Phuong trinh co 2 nghiem phan biet x1={x1} va x2={x2}\")"
   ]
  },
  {
   "cell_type": "markdown",
   "id": "a64dfa29",
   "metadata": {},
   "source": [
    "#Cau4\n",
    "a=True\n",
    "b=True\n",
    "c=False\n",
    "d=True\n",
    "e=false\n",
    "f=True\n",
    "g=True\n",
    "h=False\n",
    "i=false\n",
    "j=True\n",
    "k=True\n",
    "l=False"
   ]
  },
  {
   "cell_type": "markdown",
   "id": "6483140e",
   "metadata": {},
   "source": [
    "#cau5\n",
    "a/ i=5, j=5, k=7\n",
    "b/ i=3, j=5, k=5\n",
    "c/ i=7, j=3, k=7\n",
    "d/ i=5, j=3, k=3\n",
    "e/ i=5, j=3, k=5\n",
    "f/ i=7, j=7, k=3"
   ]
  },
  {
   "cell_type": "code",
   "execution_count": 23,
   "id": "ed7c8d11",
   "metadata": {},
   "outputs": [
    {
     "name": "stdout",
     "output_type": "stream",
     "text": [
      "Ba muoi \n",
      "Sau \n"
     ]
    }
   ],
   "source": [
    "#Cau6\n",
    "so=int(input(\"Moi nhap vao so co 2 chu so: \"))\n",
    "if 10<=so<=99:\n",
    "    chuc=so//10\n",
    "    donvi=so%10\n",
    "    tong=chuc+donvi\n",
    "    tich=chuc*donvi\n",
    "    if chuc==1: print('Muoi ')\n",
    "    elif chuc==2: print('Hai muoi ')\n",
    "    elif chuc==3: print('Ba muoi ')\n",
    "    elif chuc==4: print('Bon muoi ')\n",
    "    elif chuc==5: print('Nam muoi ')\n",
    "    elif chuc==6: print('Sau muoi ')\n",
    "    elif chuc==7: print('Bay muoi ')\n",
    "    elif chuc==8: print('Tam muoi ')\n",
    "    elif chuc==9: print('Chin muoi ')\n",
    "    \n",
    "    if(donvi==1): print('Mot ')\n",
    "    elif(donvi==2): print('Hai ')\n",
    "    elif(donvi==3): print('Ba ')\n",
    "    elif(donvi==4): print('Bon ')\n",
    "    elif(donvi==5): print('Lam ')\n",
    "    elif (donvi==6): print('Sau ')\n",
    "    elif (donvi==7): print('Bay ')\n",
    "    elif (donvi==8): print('Tam ')\n",
    "    elif (donvi==9): print('Chin ')"
   ]
  },
  {
   "cell_type": "code",
   "execution_count": 10,
   "id": "d2358e33",
   "metadata": {},
   "outputs": [
    {
     "name": "stdout",
     "output_type": "stream",
     "text": [
      "Chuong trinh tim ngay\n",
      "1/3/2025\n"
     ]
    }
   ],
   "source": [
    "#Cau7\n",
    "print(\"Chuong trinh tim ngay\")\n",
    "ngay=int(input(\"Moi nhap vao ngay: \"))\n",
    "thang=int(input(\"Moi nhap vao thang: \"))\n",
    "nam=int(input(\"Moi nhap vao nam: \"))\n",
    "if thang in [1,3,5,7,8,10,12]:\n",
    "    if ngay==31:\n",
    "        thang+=1\n",
    "        if thang>12:\n",
    "            thang=1\n",
    "            nam+=1\n",
    "        print(f\"1/{thang}/{nam}\")\n",
    "    else: \n",
    "        ngay+=1\n",
    "        print(f\"{ngay}/{thang}/{nam}\")\n",
    "elif thang in [4,6,9,11]:\n",
    "    if ngay==30:\n",
    "        thang+=1\n",
    "        if thang>12:\n",
    "            thang=1\n",
    "            nam+=1\n",
    "        print(f\"1/{thang}/{nam}\")\n",
    "    else: \n",
    "        ngay+=1\n",
    "        print(f\"{ngay}/{thang}/{nam}\")\n",
    "\n",
    "elif thang==2:\n",
    "    if (nam%4==0 and nam%100!=0) or (nam%400==0):\n",
    "        if ngay==29:\n",
    "            thang+=1\n",
    "            if thang>12:\n",
    "                thang=1\n",
    "                nam+=1\n",
    "            print(f\"1/{thang}/{nam}\")\n",
    "    else:\n",
    "        if ngay==28:\n",
    "            thang+=1\n",
    "            if thang>12:\n",
    "                thang=1\n",
    "                nam+=1\n",
    "            print(f\"1/{thang}/{nam}\")\n",
    "else:\n",
    "    ngay+=1\n",
    "    print(f\"{ngay}/{thang}/{nam}\")"
   ]
  },
  {
   "cell_type": "code",
   "execution_count": 25,
   "id": "49edb851",
   "metadata": {},
   "outputs": [
    {
     "name": "stdout",
     "output_type": "stream",
     "text": [
      "1+3=4\n"
     ]
    }
   ],
   "source": [
    "#Cau8\n",
    "a=int(input(\"Moi nhap so a: \") )\n",
    "b=int(input(\"Moi nhap so b: \") )\n",
    "pheptoan=input(\"Moi nhap phep toan (+,-,*,/): \")\n",
    "if pheptoan==\"+\":\n",
    "    print(f\"{a}+{b}={a+b}\")\n",
    "elif pheptoan==\"-\":\n",
    "    print(f\"{a}-{b}={a-b}\")\n",
    "elif pheptoan==\"*\":\n",
    "    print(f\"{a}*{b}={a*b}\")\n",
    "else:\n",
    "    if b==0:\n",
    "        print(\"Khong the chia cho 0\")\n",
    "    else:\n",
    "        print(f\"{a}/{b}={a/b}\")\n"
   ]
  },
  {
   "cell_type": "code",
   "execution_count": 26,
   "id": "f0161519",
   "metadata": {},
   "outputs": [
    {
     "name": "stdout",
     "output_type": "stream",
     "text": [
      "Quy 2\n"
     ]
    }
   ],
   "source": [
    "#Cau9\n",
    "thang=int(input(\"Moi nhap thang (1-12): \"))\n",
    "if 1<=thang<=3:\n",
    "    print(\"Quy 1\")\n",
    "elif 4<=thang<=6:\n",
    "    print(\"Quy 2\")\n",
    "elif 7<=thang<=9:\n",
    "    print(\"Quy 3\")\n",
    "elif 10<=thang<=12:\n",
    "    print(\"Quy 4\")\n",
    "else: print(\"Thang vua nhap khong hop le\")"
   ]
  },
  {
   "cell_type": "code",
   "execution_count": null,
   "id": "3fffa8b1",
   "metadata": {},
   "outputs": [
    {
     "name": "stdout",
     "output_type": "stream",
     "text": [
      "s(12,2)=84.0\n"
     ]
    }
   ],
   "source": [
    "#cau10\n",
    "x=int(input(\"Moi nhap so x: \"))\n",
    "n=int(input(\"Moi nhap so n: \"))\n",
    "s=0\n",
    "for i in range (1,n+1):\n",
    "    tu=x**i\n",
    "    mau=1\n",
    "    for j in range (1,i+1):\n",
    "        mau=mau*j\n",
    "    s=s+tu/mau\n",
    "print(\"s({0},{1})={2}\".format(x,n,s))"
   ]
  },
  {
   "cell_type": "code",
   "execution_count": 16,
   "id": "f05a43a8",
   "metadata": {},
   "outputs": [
    {
     "name": "stdout",
     "output_type": "stream",
     "text": [
      "2 la so nguyen to\n",
      "Cam on ban da su dung chuong trinh\n"
     ]
    }
   ],
   "source": [
    "#Cau11\n",
    "while True:\n",
    "    n=int(input(\"Nhap mot so nguyen duong: \"))\n",
    "    demo=0\n",
    "    for i in range(1,n+1):\n",
    "        if n%i==0:\n",
    "            demo+=1\n",
    "    if demo==2:\n",
    "        print(f\"{n} la so nguyen to\")\n",
    "    else:\n",
    "        print(f\"{n} khong phai la so nguyen to\")\n",
    "    tieptuc=input(\"Ban co muon tiep tuc khong (y/n): \")\n",
    "    if tieptuc.lower()==\"n\":\n",
    "        break   \n",
    "print(\"Cam on ban da su dung chuong trinh\")"
   ]
  },
  {
   "cell_type": "code",
   "execution_count": 1,
   "id": "2e33774c",
   "metadata": {},
   "outputs": [
    {
     "name": "stdout",
     "output_type": "stream",
     "text": [
      "2* 1= 2   \t3* 1= 3   \t4* 1= 4   \t5* 1= 5   \t6* 1= 6   \t7* 1= 7   \t8* 1= 8   \t9* 1= 9   \t\n",
      "2* 2= 4   \t3* 2= 6   \t4* 2= 8   \t5* 2=10   \t6* 2=12   \t7* 2=14   \t8* 2=16   \t9* 2=18   \t\n",
      "2* 3= 6   \t3* 3= 9   \t4* 3=12   \t5* 3=15   \t6* 3=18   \t7* 3=21   \t8* 3=24   \t9* 3=27   \t\n",
      "2* 4= 8   \t3* 4=12   \t4* 4=16   \t5* 4=20   \t6* 4=24   \t7* 4=28   \t8* 4=32   \t9* 4=36   \t\n",
      "2* 5=10   \t3* 5=15   \t4* 5=20   \t5* 5=25   \t6* 5=30   \t7* 5=35   \t8* 5=40   \t9* 5=45   \t\n",
      "2* 6=12   \t3* 6=18   \t4* 6=24   \t5* 6=30   \t6* 6=36   \t7* 6=42   \t8* 6=48   \t9* 6=54   \t\n",
      "2* 7=14   \t3* 7=21   \t4* 7=28   \t5* 7=35   \t6* 7=42   \t7* 7=49   \t8* 7=56   \t9* 7=63   \t\n",
      "2* 8=16   \t3* 8=24   \t4* 8=32   \t5* 8=40   \t6* 8=48   \t7* 8=56   \t8* 8=64   \t9* 8=72   \t\n",
      "2* 9=18   \t3* 9=27   \t4* 9=36   \t5* 9=45   \t6* 9=54   \t7* 9=63   \t8* 9=72   \t9* 9=81   \t\n",
      "2*10=20   \t3*10=30   \t4*10=40   \t5*10=50   \t6*10=60   \t7*10=70   \t8*10=80   \t9*10=90   \t\n"
     ]
    }
   ],
   "source": [
    "#Cau12\n",
    "for i in range(1,11):\n",
    "    for j in range(2,10):\n",
    "        line=\"{0}*{1:>2}={2:>2}   \".format(j,i,i*j)\n",
    "        print(line,end=\"\\t\")\n",
    "    print()"
   ]
  },
  {
   "cell_type": "markdown",
   "id": "f1e6a93c",
   "metadata": {},
   "source": [
    "#cau13\n",
    "a=0\n",
    "while a<100:\n",
    "    print('*',end='')\n",
    "print()\n",
    "#Vo han dau * duoc in ra"
   ]
  },
  {
   "cell_type": "code",
   "execution_count": null,
   "id": "e8768ea6",
   "metadata": {},
   "outputs": [],
   "source": [
    "#cau14\n",
    "#Co 2000 dau * duoc in ra"
   ]
  },
  {
   "cell_type": "code",
   "execution_count": null,
   "id": "c0069a97",
   "metadata": {},
   "outputs": [],
   "source": [
    "#cau16\n",
    "#Co 16 dau * duoc in ra\n"
   ]
  },
  {
   "cell_type": "code",
   "execution_count": 18,
   "id": "e591e62e",
   "metadata": {},
   "outputs": [
    {
     "name": "stdout",
     "output_type": "stream",
     "text": [
      "n=  2\n",
      "n=  4\n",
      "n=  5\n",
      "n=  100\n"
     ]
    }
   ],
   "source": [
    "#Cau17\n",
    "n,m=0,100\n",
    "while n!=m:\n",
    "    n=int(input())\n",
    "    if n<0:\n",
    "        break\n",
    "    print(\"n= \",n)"
   ]
  },
  {
   "cell_type": "code",
   "execution_count": null,
   "id": "4562e233",
   "metadata": {},
   "outputs": [
    {
     "name": "stdout",
     "output_type": "stream",
     "text": [
      "*****\n",
      "*   *\n",
      "*   *\n",
      "*   *\n",
      "*****\n"
     ]
    }
   ],
   "source": [
    "#Cau18\n",
    "n=int(input(\"Moi nhap so nguyen duong n: \"))\n",
    "for i in range(n):\n",
    "    for j in range(n):\n",
    "        if i==0 or i==n-1 or j==0 or j==n-1:\n",
    "            print('*',end='')\n",
    "        else:\n",
    "            print(' ',end='')\n",
    "    print()\n",
    "    \n",
    "n=int(input(\"Moi nhap so nguyen duong n: \"))\n",
    "for i in range(1,n+1):\n",
    "    print(\"* \"*i)\n",
    "    \n",
    "n=int(input(\"Moi nhap so nguyen duong n: \"))\n",
    "for i in range(1,n+1):\n",
    "    print(\" \" * (n-1) + \"* \" * i)"
   ]
  },
  {
   "cell_type": "code",
   "execution_count": 2,
   "id": "93ae8aad",
   "metadata": {},
   "outputs": [
    {
     "name": "stdout",
     "output_type": "stream",
     "text": [
      "S(2.0,2)=3.5999999999999996\n"
     ]
    }
   ],
   "source": [
    "#cau19\n",
    "import math\n",
    "x=float(input(\"Moi nhap so x: \"))\n",
    "n=int(input(\"Moi nhap so n: \"))\n",
    "s=0\n",
    "for i in range(n+1):\n",
    "    s+=x**(2*i+1)/math.factorial(2*i+1)\n",
    "print(\"S({0},{1})={2}\".format(x,n,s))"
   ]
  }
 ],
 "metadata": {
  "kernelspec": {
   "display_name": "Python 3",
   "language": "python",
   "name": "python3"
  },
  "language_info": {
   "codemirror_mode": {
    "name": "ipython",
    "version": 3
   },
   "file_extension": ".py",
   "mimetype": "text/x-python",
   "name": "python",
   "nbconvert_exporter": "python",
   "pygments_lexer": "ipython3",
   "version": "3.13.7"
  }
 },
 "nbformat": 4,
 "nbformat_minor": 5
}
