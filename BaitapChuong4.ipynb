{
 "cells": [
  {
   "cell_type": "code",
   "execution_count": 1,
   "id": "0b437a16",
   "metadata": {},
   "outputs": [
    {
     "name": "stdout",
     "output_type": "stream",
     "text": [
      "Chương trình tính diện tích Tam Giác\n",
      "Diện tích = 6.0\n"
     ]
    }
   ],
   "source": [
    "#Cau1\n",
    "from math import sqrt \n",
    " \n",
    "print(\"Chương trình tính diện tích Tam Giác\") \n",
    "a=float(input(\"Nhập cạnh a>0:\")) \n",
    "b=float(input(\"Nhập cạnh b>0:\")) \n",
    "c=float(input(\"Nhập cạnh c>0:\")) \n",
    "if (a<=0 or b <=0 or c <=0) or (a+b)<=c or (a+c)<=b or b+c<=a: \n",
    "    print(\"Tam giác không hợp lệ\") \n",
    "else: \n",
    "    cv=a+b+c \n",
    "    p=cv/2 \n",
    "    dt=sqrt(p*(p-a)*(p-b)*(p-c)) \n",
    "    print(\"Diện tích =\",dt)"
   ]
  },
  {
   "cell_type": "code",
   "execution_count": 2,
   "id": "e1f6a3f5",
   "metadata": {},
   "outputs": [
    {
     "name": "stdout",
     "output_type": "stream",
     "text": [
      "Bạn đoán lần thứ  1\n",
      "Bạn đoán sai, số máy < số bạn\n",
      "Bạn đoán lần thứ  2\n",
      "Bạn đoán sai, số máy < số bạn\n",
      "Bạn đoán lần thứ  3\n",
      "Bạn đoán sai, số máy > số bạn\n",
      "Bạn đoán lần thứ  4\n",
      "Bạn đoán sai, số máy > số bạn\n",
      "Bạn đoán lần thứ  5\n",
      "Bạn đoán sai, số máy < số bạn\n",
      "Bạn đoán lần thứ  6\n",
      "Chúc mừng bạn đoán đúng, số máy là= 23\n",
      "Cám ơn bạn đã chơi Game!\n"
     ]
    }
   ],
   "source": [
    "#Cau2\n",
    "from random import randrange \n",
    "while True: \n",
    "    somay=randrange(1,101) \n",
    "    solandoan=0 \n",
    "    win=False \n",
    "    while solandoan<7: \n",
    "        solandoan+=1 \n",
    "        songuoi=int(input(\"Máy đoán [1..100], mời bạn đoán:\")) \n",
    "        print(\"Bạn đoán lần thứ \",solandoan) \n",
    "        if somay==songuoi: \n",
    "            print(\"Chúc mừng bạn đoán đúng, số máy là=\",somay) \n",
    "            win=True \n",
    "            break \n",
    "        if somay>songuoi: \n",
    "            print(\"Bạn đoán sai, số máy > số bạn\") \n",
    "        elif somay<songuoi: \n",
    "            print(\"Bạn đoán sai, số máy < số bạn\") \n",
    "    if win==False: \n",
    "        print(\"GAME OVER!, số máy =\",somay) \n",
    "    hoi=input(\"Tiếp không?\") \n",
    "    if hoi==\"k\": \n",
    "        break \n",
    "print(\"Cám ơn bạn đã chơi Game!\")"
   ]
  },
  {
   "cell_type": "code",
   "execution_count": 6,
   "id": "80f09304",
   "metadata": {},
   "outputs": [
    {
     "name": "stdout",
     "output_type": "stream",
     "text": [
      "Nhập vào chiều cao:\n",
      "Nhập vào cân nặng:\n",
      "BMI của bạn= 25.94548395958609\n",
      "Phân loại bạn= Hơi Béo\n",
      "Nguy cơ bệnh của bạn= Cao\n"
     ]
    }
   ],
   "source": [
    "#Cau3\n",
    "def BMI(height,weight): \n",
    "    return weight/(height**2)       \n",
    "def PhanLoai(bmi): \n",
    "    if bmi<18.5: \n",
    "        return \"Gầy\" \n",
    "    elif bmi<=24.9: \n",
    "        return \"Bình thường\" \n",
    "    elif bmi<=29.9: \n",
    "        return \"Hơi Béo\" \n",
    "    elif bmi<=34.9: \n",
    "        return \"Béo Phì Cấp Độ 1\" \n",
    "    elif bmi<=39.9: \n",
    "        return \"Béo Phì Cấp Độ 2\" \n",
    "    else: \n",
    "        return \"Béo Phì Cấp độ 3\" \n",
    "def NguyCoBenh(bmi): \n",
    "    if bmi<18.5: \n",
    "        return \"Thấp\" \n",
    "    elif bmi<=24.9: \n",
    "        return \"Trung Bình\" \n",
    "    elif bmi<=29.9: \n",
    "        return \"Cao\" \n",
    "    elif bmi<=34.9: \n",
    "        return \"Cao\" \n",
    "    elif bmi<=39.9: \n",
    "        return \"Rất cao\" \n",
    "    else: \n",
    "        return \"Nguy Hiểm\" \n",
    "print(\"Nhập vào chiều cao:\") \n",
    "height=float(input()) \n",
    "print(\"Nhập vào cân nặng:\") \n",
    "weight=float(input()) \n",
    "bmi=BMI(height,weight) \n",
    "print(\"BMI của bạn=\",bmi) \n",
    "print(\"Phân loại bạn=\",PhanLoai(bmi)) \n",
    "print(\"Nguy cơ bệnh của bạn=\",NguyCoBenh(bmi))"
   ]
  },
  {
   "cell_type": "code",
   "execution_count": 7,
   "id": "de16732f",
   "metadata": {},
   "outputs": [
    {
     "name": "stdout",
     "output_type": "stream",
     "text": [
      "Chương trình tính ROI\n",
      "Tỉ Lệ ROI= 0.25\n",
      "==> Không nên đầu tư\n"
     ]
    }
   ],
   "source": [
    "#Cau4\n",
    "def ROI(dt,cp): \n",
    "    return (dt-cp)/cp \n",
    "def GoiYDauTu(roi): \n",
    "    if roi>=0.75: \n",
    "        return \"Nên đầu tư\" \n",
    "    else: \n",
    "        return \"Không nên đầu tư\" \n",
    "print(\"Chương trình tính ROI\") \n",
    "dt=int(input(\"Nhập Doanh Thu:\")) \n",
    "cp=int(input(\"Nhập chi phí:\")) \n",
    "roi=ROI(dt,cp) \n",
    "print(\"Tỉ Lệ ROI=\",roi) \n",
    "print(\"==>\",GoiYDauTu(roi))"
   ]
  },
  {
   "cell_type": "code",
   "execution_count": 8,
   "id": "46baaa24",
   "metadata": {},
   "outputs": [
    {
     "name": "stdout",
     "output_type": "stream",
     "text": [
      "34\n",
      "1\t1\t2\t3\t5\t8\t13\t21\t34\t"
     ]
    }
   ],
   "source": [
    "#Cau5\n",
    "def fibonacci(n): \n",
    "    if n<=2 : \n",
    "        return 1 \n",
    "    return fibonacci(n-1)+fibonacci(n-2) \n",
    " \n",
    "def listfibo(n): \n",
    "    for i in range(1,n+1): \n",
    "        print(fibonacci(i),end='\\t') \n",
    " \n",
    "print(fibonacci(9)) \n",
    " \n",
    "listfibo(9) "
   ]
  },
  {
   "cell_type": "markdown",
   "id": "6e910c81",
   "metadata": {},
   "source": [
    "#Cau6\n",
    "Những giá trị nào có thể xuất hiện trong range[0...100]\n",
    "0 99 34"
   ]
  },
  {
   "cell_type": "code",
   "execution_count": 11,
   "id": "dfbc24e9",
   "metadata": {},
   "outputs": [
    {
     "name": "stdout",
     "output_type": "stream",
     "text": [
      "Nhap toa do diem 1:\n",
      "(3.0,4.0)\n",
      "Nhap toa do diem 2:\n",
      "(2.0,4.0)\n",
      "Khoang cach giua 2 diem la: 1.0\n"
     ]
    }
   ],
   "source": [
    "#Cau7\n",
    "class ToaDo:\n",
    "    def __init__(self,x=0,y=0):\n",
    "        self.x=x\n",
    "        self.y=y\n",
    "    def Nhap(self):\n",
    "        self.x=float(input(\"Nhap x:\"))\n",
    "        self.y=float(input(\"Nhap y:\"))\n",
    "    def In(self):\n",
    "        print(f\"({self.x},{self.y})\")\n",
    "    def KhoangCach(self,td):\n",
    "        return sqrt((self.x-td.x)**2+(self.y-td.y)**2)\n",
    "td1=ToaDo()\n",
    "td2=ToaDo()\n",
    "print(\"Nhap toa do diem 1:\")\n",
    "td1.Nhap()\n",
    "td1.In()\n",
    "print(\"Nhap toa do diem 2:\")\n",
    "td2.Nhap()\n",
    "td2.In()\n",
    "print(\"Khoang cach giua 2 diem la:\",td1.KhoangCach(td2))"
   ]
  },
  {
   "cell_type": "code",
   "execution_count": null,
   "id": "6683258b",
   "metadata": {},
   "outputs": [
    {
     "name": "stdout",
     "output_type": "stream",
     "text": [
      "Chương trình tính Logarit\n",
      "Logarit cơ số 2 của 4 là: 2.0\n"
     ]
    }
   ],
   "source": [
    "#Cau8\n",
    "import math\n",
    "print(\"Chương trình tính Logarit\")\n",
    "a=int(input(\"Nhập cơ số a(a>0 và a!=1): \"))\n",
    "x=int(input(\"Nhập biến số x(x>0): \"))\n",
    "if a<=0 or a==1 or x<=0:\n",
    "    print(\"Dữ liệu không hợp lệ\")\n",
    "else:\n",
    "    log=math.log(x,a)\n",
    "    print(f\"Logarit cơ số {a} của {x} là: {log}\")"
   ]
  },
  {
   "cell_type": "code",
   "execution_count": 18,
   "id": "244871f5",
   "metadata": {},
   "outputs": [
    {
     "name": "stdout",
     "output_type": "stream",
     "text": [
      "S(n): 1.9999976469034038\n"
     ]
    }
   ],
   "source": [
    "#Cau9\n",
    "import math\n",
    "n=int(input(\"Nhập n>0: \"))\n",
    "def CanN(n):\n",
    "    if n==1:\n",
    "        return math.sqrt(2)\n",
    "    else:\n",
    "        return(math.sqrt(2+CanN(n-1)))\n",
    "print(f\"S(n): {CanN(n)}\")"
   ]
  },
  {
   "cell_type": "code",
   "execution_count": 19,
   "id": "03b30612",
   "metadata": {},
   "outputs": [
    {
     "name": "stdout",
     "output_type": "stream",
     "text": [
      "\n",
      "    *\n",
      "   * *\n",
      "  * * *\n",
      " * * * *\n",
      "* * * * *\n",
      "    *\n",
      "    *\n",
      "    *\n",
      "    *\n",
      "    \n",
      "\n",
      "    *     *\n",
      "    * * * *\n",
      "      * *\n",
      "     *   *\n",
      "    *     *\n",
      "    \n",
      "\n",
      "        * *\n",
      "      *     *\n",
      "     *       *\n",
      "    *         *\n",
      "   * * * * * * *\n",
      "    \n",
      "\n",
      "    * * * * *\n",
      "        *\n",
      "      *\n",
      "    *\n",
      "  * * * * *\n",
      "    \n"
     ]
    }
   ],
   "source": [
    "#Cau10\n",
    "import time\n",
    "\n",
    "shapes = [\n",
    "    \"\"\"\n",
    "    *\n",
    "   * *\n",
    "  * * *\n",
    " * * * *\n",
    "* * * * *\n",
    "    *\n",
    "    *\n",
    "    *\n",
    "    *\n",
    "    \"\"\",\n",
    "    \"\"\"\n",
    "    *     *\n",
    "    * * * *\n",
    "      * *\n",
    "     *   *\n",
    "    *     *\n",
    "    \"\"\",\n",
    "    \"\"\"\n",
    "        * *\n",
    "      *     *\n",
    "     *       *\n",
    "    *         *\n",
    "   * * * * * * *\n",
    "    \"\"\",\n",
    "    \"\"\"\n",
    "    * * * * *\n",
    "        *\n",
    "      *\n",
    "    *\n",
    "  * * * * *\n",
    "    \"\"\"\n",
    "]\n",
    "\n",
    "for shape in shapes:\n",
    "    print(shape)\n",
    "    time.sleep(5)\n"
   ]
  },
  {
   "cell_type": "code",
   "execution_count": 21,
   "id": "59a1fb37",
   "metadata": {},
   "outputs": [
    {
     "name": "stdout",
     "output_type": "stream",
     "text": [
      "5\n",
      "5\n",
      "0\n"
     ]
    }
   ],
   "source": [
    "#Cau11_Truonghop1\n",
    "def sum1(n): \n",
    "    s = 0 \n",
    "    while n > 0: \n",
    "        s += 1 \n",
    "        n -= 1 \n",
    "    return s \n",
    "def sum2(): \n",
    "    global val \n",
    "    s = 0 \n",
    "    while val > 0: \n",
    "        s += 1 \n",
    "        val -= 1 \n",
    "    return s \n",
    "def sum3(): \n",
    "    s = 0 \n",
    "    for i in range(val, 0, -1): \n",
    "        s += 1 \n",
    "    return s\n",
    "def main(): \n",
    "    global val \n",
    "    val = 5 \n",
    "    print(sum1(5)) \n",
    "    print(sum2()) \n",
    "    print(sum3()) \n",
    "main() "
   ]
  },
  {
   "cell_type": "code",
   "execution_count": 22,
   "id": "43293974",
   "metadata": {},
   "outputs": [
    {
     "name": "stdout",
     "output_type": "stream",
     "text": [
      "5\n",
      "5\n",
      "5\n"
     ]
    }
   ],
   "source": [
    "#Cau11_Truonghop2\n",
    "def sum1(n): \n",
    "    s = 0 \n",
    "    while n > 0: \n",
    "        s += 1 \n",
    "        n -= 1 \n",
    "    return s \n",
    "def sum2(): \n",
    "    global val \n",
    "    s = 0 \n",
    "    while val > 0: \n",
    "        s += 1 \n",
    "        val -= 1 \n",
    "    return s \n",
    "def sum3(): \n",
    "    s = 0 \n",
    "    for i in range(val, 0, -1): \n",
    "        s += 1 \n",
    "    return s\n",
    "def main(): \n",
    "    global val \n",
    "    val = 5 \n",
    "    print(sum1(5)) \n",
    "    print(sum3()) \n",
    "    print(sum2()) \n",
    "main()"
   ]
  },
  {
   "cell_type": "code",
   "execution_count": 23,
   "id": "599889e2",
   "metadata": {},
   "outputs": [
    {
     "name": "stdout",
     "output_type": "stream",
     "text": [
      "5\n",
      "5\n",
      "0\n"
     ]
    }
   ],
   "source": [
    "#Cau11_Truonghop3\n",
    "def sum1(n): \n",
    "    s = 0 \n",
    "    while n > 0: \n",
    "        s += 1 \n",
    "        n -= 1 \n",
    "    return s \n",
    "def sum2(): \n",
    "    global val \n",
    "    s = 0 \n",
    "    while val > 0: \n",
    "        s += 1 \n",
    "        val -= 1 \n",
    "    return s \n",
    "def sum3(): \n",
    "    s = 0 \n",
    "    for i in range(val, 0, -1): \n",
    "        s += 1 \n",
    "    return s\n",
    "def main(): \n",
    "    global val \n",
    "    val = 5 \n",
    "    print(sum2()) \n",
    "    print(sum1(5)) \n",
    "    print(sum3())\n",
    "main()"
   ]
  },
  {
   "cell_type": "code",
   "execution_count": 2,
   "id": "6bd6b669",
   "metadata": {},
   "outputs": [
    {
     "name": "stdout",
     "output_type": "stream",
     "text": [
      "-3 3 -2 2 -1 1 0 0 1 -1 2 -2 3 -3 4 -4 "
     ]
    }
   ],
   "source": [
    "#Cau12\n",
    "def oscillate(start, end):\n",
    "    result = []\n",
    "    for i in range(start, end):\n",
    "        result.append(i)\n",
    "        result.append(-i)\n",
    "    return result\n",
    "for n in oscillate(-3, 5):\n",
    "    print(n, end=' ')\n",
    "\n",
    "\n"
   ]
  },
  {
   "cell_type": "code",
   "execution_count": 5,
   "id": "c5005813",
   "metadata": {},
   "outputs": [
    {
     "name": "stdout",
     "output_type": "stream",
     "text": [
      "12 la so thinh vuong\n"
     ]
    }
   ],
   "source": [
    "#Cau13\n",
    "def TongUocSo(n):\n",
    "    tong=0\n",
    "    for i in range(1,n):\n",
    "        if n%i==0:\n",
    "            tong+=i\n",
    "    return tong\n",
    "\n",
    "n=int(input(\"Nhap n>0:\"))\n",
    "if TongUocSo(n)==n:\n",
    "    print(n,\"la so hoan hao\")\n",
    "elif TongUocSo(n)>n:\n",
    "    print(n,\"la so thinh vuong\")"
   ]
  }
 ],
 "metadata": {
  "kernelspec": {
   "display_name": "Python 3",
   "language": "python",
   "name": "python3"
  },
  "language_info": {
   "codemirror_mode": {
    "name": "ipython",
    "version": 3
   },
   "file_extension": ".py",
   "mimetype": "text/x-python",
   "name": "python",
   "nbconvert_exporter": "python",
   "pygments_lexer": "ipython3",
   "version": "3.13.7"
  }
 },
 "nbformat": 4,
 "nbformat_minor": 5
}
