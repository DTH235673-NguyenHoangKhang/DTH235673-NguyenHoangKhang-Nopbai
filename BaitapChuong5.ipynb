{
 "cells": [
  {
   "cell_type": "code",
   "execution_count": 3,
   "id": "465b7282",
   "metadata": {},
   "outputs": [
    {
     "name": "stdout",
     "output_type": "stream",
     "text": [
      "Nhập 1 chuỗi:\n",
      "Chuỗi bạn vừa nhập là: khang\n",
      "Chuỗi bạn nhập không đối xứng\n",
      "Tiếp không?(c/k):\n",
      "CÁM ƠN!\n"
     ]
    }
   ],
   "source": [
    "#Cau1\n",
    "def CheckDoiXung(s): \n",
    "    flag=True \n",
    "    for i in range(len(s)): \n",
    "        if s[i]!=s[len(s)-i-1]: \n",
    "            flag=False \n",
    "            break \n",
    "    return flag \n",
    "def main(): \n",
    "    print(\"Nhập 1 chuỗi:\") \n",
    "    s=input() \n",
    "    print(\"Chuỗi bạn vừa nhập là:\",s)\n",
    "    if(CheckDoiXung(s)): \n",
    "        print(\"Chuỗi bạn nhập đối xứng\") \n",
    "    else: \n",
    "        print(\"Chuỗi bạn nhập không đối xứng\") \n",
    "while True: \n",
    "    main() \n",
    "    print(\"Tiếp không?(c/k):\") \n",
    "    s=input() \n",
    "    if s==\"k\": \n",
    "        break \n",
    "print(\"CÁM ƠN!\")"
   ]
  },
  {
   "cell_type": "code",
   "execution_count": 4,
   "id": "b096ea09",
   "metadata": {},
   "outputs": [
    {
     "name": "stdout",
     "output_type": "stream",
     "text": [
      "    Trần     Duy     Thanh    => 29\n",
      "Trần Duy Thanh => 14\n"
     ]
    }
   ],
   "source": [
    "#Cau2\n",
    "def ToiUuChuoi(s): \n",
    "    s2=s \n",
    "    s2=s2.strip() \n",
    "    arr=s2.split(' ') \n",
    "    s2=\"\" \n",
    "    for x in arr: \n",
    "        word=x \n",
    "        if len(word.strip())!=0: \n",
    "            s2=s2+word+\" \" \n",
    "    return s2.strip() \n",
    " \n",
    "s=\"    Trần     Duy     Thanh   \" \n",
    "print(s,\"=>\",len(s)) \n",
    "s=ToiUuChuoi(s) \n",
    "print(s,\"=>\",len(s))"
   ]
  },
  {
   "cell_type": "code",
   "execution_count": 5,
   "id": "2b47dd9f",
   "metadata": {},
   "outputs": [
    {
     "name": "stdout",
     "output_type": "stream",
     "text": [
      "5\n",
      "7\n",
      "8\n",
      "-2\n",
      "8\n",
      "11\n",
      "-13\n",
      "9\n",
      "10\n",
      "Số chẵn = 4\n",
      "Số âm = 2\n",
      "Số Nguyên tố = 3\n",
      "Trung bình= 4.777777777777778\n"
     ]
    }
   ],
   "source": [
    "#Cau3\n",
    "def CheckPrime(x): \n",
    "    dem=0 \n",
    "    for i in range(1,x+1): \n",
    "        if x % i ==0: \n",
    "            dem+=1 \n",
    "    return dem==2 \n",
    "s=\"5;7;8;-2;8;11;-13;9;10\" \n",
    "arr=s.split(';') \n",
    "sochan=0 \n",
    "soam=0 \n",
    "sont=0 \n",
    "sum=0 \n",
    "for x in arr: \n",
    "    print(x) \n",
    "    number=int(x) \n",
    "    if number %  2 ==0: \n",
    "        sochan+=1 \n",
    "    if number <0: \n",
    "        soam+=1 \n",
    "    if CheckPrime(number): \n",
    "        sont+=1 \n",
    "    sum=sum+number \n",
    "print(\"Số chẵn =\",sochan) \n",
    "print(\"Số âm =\",soam) \n",
    "print(\"Số Nguyên tố =\",sont) \n",
    "print(\"Trung bình=\",sum/len(arr)) "
   ]
  },
  {
   "cell_type": "markdown",
   "id": "b8254d72",
   "metadata": {},
   "source": [
    "#Cau4\n",
    "len(): Trả về độ dài của chuỗi.\n",
    "\n",
    "lower(), upper(): Chuyển chuỗi về chữ thường hoặc in hoa.\n",
    "\n",
    "strip(), lstrip(), rstrip(): Xoá khoảng trắng ở đầu, cuối hoặc cả hai bên chuỗi.\n",
    "\n",
    "replace(old, new): Thay thế chuỗi con cũ bằng chuỗi con mới.\n",
    "\n",
    "find(sub), index(sub): Tìm vị trí xuất hiện đầu tiên của chuỗi con (find trả -1 nếu không có, index báo lỗi).\n",
    "\n",
    "split(sep): Tách chuỗi thành danh sách dựa trên ký tự phân cách.\n",
    "\n",
    "join(list): Nối các phần tử trong danh sách thành chuỗi.\n",
    "\n",
    "startswith(prefix), endswith(suffix): Kiểm tra chuỗi có bắt đầu hoặc kết thúc bằng chuỗi con nào đó không.\n",
    "\n",
    "isdigit(), isalpha(), isalnum(): Kiểm tra chuỗi có phải là số, chữ cái, hoặc chữ cái/số kết hợp.\n",
    "\n",
    "capitalize(), title(): Viết hoa chữ cái đầu chuỗi hoặc đầu mỗi từ.\n",
    "\n",
    "format(), f-string: Định dạng chuỗi động."
   ]
  },
  {
   "cell_type": "code",
   "execution_count": 16,
   "id": "35e05eac",
   "metadata": {},
   "outputs": [
    {
     "name": "stdout",
     "output_type": "stream",
     "text": [
      "Chữ thường = 3\n",
      "Chữ hoa = 1\n",
      "Chữ số = 1\n",
      "Ký tự đặc biệt = 1\n",
      "Khoảng trắng = 1\n",
      "Nguyên âm = 2\n",
      "Phụ âm = 2\n"
     ]
    }
   ],
   "source": [
    "#Cau5\n",
    "\n",
    "s=\"a; B; c; 9; e; @; \"\n",
    "arr=s.split(';')\n",
    "chuthuong=0\n",
    "chuhoa=0\n",
    "chuso=0\n",
    "kytudacbiet=0\n",
    "khoangtrang=0\n",
    "nguyenam=0\n",
    "phuam=0\n",
    "for i in arr:\n",
    "    word=i\n",
    "    if len(word.strip())!=0:\n",
    "        if word.strip().isalpha():\n",
    "            if word.strip().islower():\n",
    "                chuthuong+=1\n",
    "            else:\n",
    "                chuhoa+=1\n",
    "            if word.strip().lower() in 'aeiou':\n",
    "                nguyenam+=1\n",
    "            elif word.strip().lower() in 'bcdfghjklmnpqrstvwxyz':\n",
    "                phuam+=1\n",
    "        elif word.strip().isdigit():\n",
    "            chuso+=1\n",
    "        else:\n",
    "            kytudacbiet+=1\n",
    "    else:\n",
    "        khoangtrang+=1\n",
    "   \n",
    "print(\"Chữ thường =\",chuthuong)\n",
    "print(\"Chữ hoa =\",chuhoa)\n",
    "print(\"Chữ số =\",chuso)\n",
    "print(\"Ký tự đặc biệt =\",kytudacbiet)   \n",
    "print(\"Khoảng trắng =\",khoangtrang)\n",
    "print(\"Nguyên âm =\",nguyenam)\n",
    "print(\"Phụ âm =\",phuam)\n",
    "   "
   ]
  },
  {
   "cell_type": "code",
   "execution_count": null,
   "id": "57a3e8ac",
   "metadata": {},
   "outputs": [
    {
     "name": "stdout",
     "output_type": "stream",
     "text": [
      "-5;-12;-123\n"
     ]
    }
   ],
   "source": [
    "#Cau6\n",
    "def NegativeNumberInString(s):\n",
    "    result=\"\"\n",
    "    for i in range(0,len(s)):\n",
    "        if s[i]=='-' and s[i+1].isdigit():\n",
    "            result=result+\"-\"\n",
    "            for j in range(i+1,len(s)):\n",
    "                if s[j].isdigit():\n",
    "                    result=result+s[j]\n",
    "                else:\n",
    "                    break\n",
    "            result=result+\";\"\n",
    "    return result.strip(';')\n",
    "s=\"abc-5xyz-12k9l--p\"\n",
    "print(NegativeNumberInString(s))"
   ]
  },
  {
   "cell_type": "code",
   "execution_count": null,
   "id": "26dc8b25",
   "metadata": {},
   "outputs": [
    {
     "name": "stdout",
     "output_type": "stream",
     "text": [
      "Trần Duy Thanh\n"
     ]
    }
   ],
   "source": [
    "#Cau7\n",
    "def ToiUuHoa(s):\n",
    "    s2=s.lower()\n",
    "    \n",
    "    s2=s2.strip() \n",
    "    arr=s2.split(' ') \n",
    "    s2=\"\" \n",
    "    for x in arr: \n",
    "        word=x \n",
    "        if len(word.strip())!=0: \n",
    "            s2=s2+word+\" \" \n",
    "    \n",
    "    result=\"\"\n",
    "    for i in range(0,len(s2)-1):\n",
    "        if i==0:\n",
    "            result=result+s2[i].upper()\n",
    "        elif s2[i-1]==' ':\n",
    "            result=result+s2[i].upper() \n",
    "        else:\n",
    "            result=result+s2[i]\n",
    "    return result.strip()\n",
    "s=\"    trần     dUy     Thanh   \"\n",
    "print(ToiUuHoa(s))"
   ]
  },
  {
   "cell_type": "code",
   "execution_count": null,
   "id": "837136f2",
   "metadata": {},
   "outputs": [
    {
     "name": "stdout",
     "output_type": "stream",
     "text": [
      "muabui.mp3\n",
      "muabui\n"
     ]
    }
   ],
   "source": [
    "#Cau8\n",
    "import os\n",
    "\n",
    "def get_filename(path):\n",
    "    for i in range(len(path)-1, 0, -1):\n",
    "        if path[i] == '\\\\' or path[i] == '/':\n",
    "            return path[i+1:]\n",
    "\n",
    "def get_songname(path):\n",
    "    for i in range(len(path)-1, 0, -1):\n",
    "        if path[i] == '.':\n",
    "            for j in range(i-1, 0, -1):\n",
    "                if path[j] == '\\\\' or path[j] == '/':\n",
    "                    return path[j+1:i]\n",
    "# Ví dụ sử dụng\n",
    "path = r\"d:\\music\\muabui.mp3\"\n",
    "print(get_filename(path))   # muabui.mp3\n",
    "print(get_songname(path))   # muabui\n"
   ]
  }
 ],
 "metadata": {
  "kernelspec": {
   "display_name": "Python 3",
   "language": "python",
   "name": "python3"
  },
  "language_info": {
   "codemirror_mode": {
    "name": "ipython",
    "version": 3
   },
   "file_extension": ".py",
   "mimetype": "text/x-python",
   "name": "python",
   "nbconvert_exporter": "python",
   "pygments_lexer": "ipython3",
   "version": "3.13.7"
  }
 },
 "nbformat": 4,
 "nbformat_minor": 5
}
