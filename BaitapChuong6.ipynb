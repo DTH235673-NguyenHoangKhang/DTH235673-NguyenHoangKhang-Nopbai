{
 "cells": [
  {
   "cell_type": "code",
   "execution_count": 2,
   "id": "f4eda94a",
   "metadata": {},
   "outputs": [
    {
     "name": "stdout",
     "output_type": "stream",
     "text": [
      "Chương trình xử lý List\n",
      "List ngẫu nhiên là:\n",
      "[-79, 41, -28, -54, -35]\n",
      "Mời bạn thêm số mới:\n",
      "[-79, 41, -28, -54, -35, 41]\n",
      "bạn muốn đếm số nào:\n",
      "41 xuất hiện  2 trong list\n",
      "Có  2 số nguyên tố trong list\n",
      "Tổng= 82\n",
      "List sau khi sort:\n",
      "[-79, -54, -35, -28, 41, 41]\n",
      "List sau khi xóa:\n",
      "[-79, -54, -35, -28, 41, 41]\n"
     ]
    }
   ],
   "source": [
    "#Cau1\n",
    "from random import randrange \n",
    " \n",
    "print(\"Chương trình xử lý List\") \n",
    "n=int(input(\"Nhập số phần tử\")) \n",
    "lst=[0]*n \n",
    "for i in range(n): \n",
    "    lst[i]=randrange(-100,100) \n",
    "print(\"List ngẫu nhiên là:\") \n",
    "print(lst) \n",
    "print(\"Mời bạn thêm số mới:\") \n",
    "value=int(input()) \n",
    "lst.append(value) \n",
    "print(lst) \n",
    "print(\"bạn muốn đếm số nào:\") \n",
    "k=int(input()) \n",
    "dem=lst.count(k) \n",
    "print(k,\"xuất hiện \",dem,\"trong list\") \n",
    "def CheckPrime(n):\n",
    "    d=0 \n",
    "    for i in range(1,n+1): \n",
    "        if n%i ==0: \n",
    "            d+=1 \n",
    "    return d==2 \n",
    "demnt=0 \n",
    "tongnt=0 \n",
    "for x in lst: \n",
    "    if CheckPrime(x): \n",
    "        demnt+=1 \n",
    "        tongnt+=x \n",
    "print(\"Có \",demnt,\"số nguyên tố trong list\") \n",
    "print(\"Tổng=\",tongnt) \n",
    "lst.sort() \n",
    "print(\"List sau khi sort:\") \n",
    "print(lst) \n",
    " \n",
    "\n",
    "print(\"List sau khi xóa:\") \n",
    "print(lst)\n",
    "del lst "
   ]
  },
  {
   "cell_type": "code",
   "execution_count": 4,
   "id": "c87ec077",
   "metadata": {},
   "outputs": [
    {
     "name": "stdout",
     "output_type": "stream",
     "text": [
      "Nhập số phần tử:\n",
      "List sau khi tạo ngẫu nhiên là:\n",
      "[0, 15, 49, 49, 87]\n",
      "List sau khi chèn:\n",
      "[0, 15, 49, 49, 87, 5]\n",
      "List sau khi xóa:\n",
      "[0, 15, 87, 5]\n",
      "List không đối xứng\n"
     ]
    }
   ],
   "source": [
    "#Cau2\n",
    "from random import randrange \n",
    " \n",
    "lst=[] \n",
    "print(\"Nhập số phần tử:\") \n",
    "n=int(input()) \n",
    "for i in range(n): \n",
    "    lst.append(randrange(0,100)) \n",
    "print(\"List sau khi tạo ngẫu nhiên là:\") \n",
    "print(lst) \n",
    "x=int(input(\"Mời bạn chèn thêm số mới\")) \n",
    "lst.append(x) \n",
    "print(\"List sau khi chèn:\") \n",
    "print(lst) \n",
    "k=int(input(\"Mời nhập số để xóa\")) \n",
    "while lst.count(k)>0: \n",
    "    lst.remove(k) \n",
    "print(\"List sau khi xóa:\") \n",
    "print(lst) \n",
    " \n",
    "def CheckDoiXung(lst): \n",
    "    for i in range(len(lst)): \n",
    "        if lst[i]!=lst[len(lst)-i-1]: \n",
    "            return  False \n",
    "    return True \n",
    "kt=CheckDoiXung(lst) \n",
    "if kt==True: \n",
    "    print(\"List đối xứng\") \n",
    "else: \n",
    "    print(\"List không đối xứng\")"
   ]
  },
  {
   "cell_type": "code",
   "execution_count": 7,
   "id": "7a2b04aa",
   "metadata": {},
   "outputs": [
    {
     "name": "stdout",
     "output_type": "stream",
     "text": [
      "Nhập số dòng:\n",
      "Nhập số cột:\n",
      "59\t32\t76\t50\t36\t\n",
      "29\t70\t25\t26\t82\t\n",
      "43\t38\t82\t22\t30\t\n",
      "6\t18\t14\t38\t2\t\n",
      "35\t2\t54\t91\t5\t\n",
      "Mời bạn nhập dòng muốn xuất:\n",
      "43\t38\t82\t22\t30\t\n",
      "\n",
      "Mời bạn nhập cột muốn xuất:\n",
      "32\t70\t38\t18\t2\t\n",
      "\n",
      "Số lớn nhất trong ma trận= 91\n"
     ]
    }
   ],
   "source": [
    "#Cau3\n",
    "from random import randrange \n",
    " \n",
    " \n",
    "def TaoMaTran(m,n): \n",
    "    D=[] \n",
    "    for i in range(m): \n",
    "        row=[] \n",
    "        for j in range(n): \n",
    "            row.append(randrange(100)) \n",
    "        D.append(row) \n",
    "    return D \n",
    "def XuatMaTran(D): \n",
    "    for row in D: \n",
    "        for element in row: \n",
    "            print(element,end='\\t') \n",
    "        print() \n",
    "def LayDong(r): \n",
    "    R=D[r] \n",
    "    return R \n",
    "def XuatList1Chieu(R): \n",
    "    for element in R: \n",
    "        print(element,end='\\t') \n",
    "def LayCot(c): \n",
    "    C=[] \n",
    "    for i in range(len(D)): \n",
    "        C.append(D[i][c]) \n",
    "    return C \n",
    "def MAX(D): \n",
    "    max=D[0][0] \n",
    "    for i in range(len(D)): \n",
    "        for j in range(len(D[i])): \n",
    "            if(max<D[i][j]): \n",
    "                max=D[i][j] \n",
    "    return  max \n",
    "print(\"Nhập số dòng:\") \n",
    "m=int(input()) \n",
    "print(\"Nhập số cột:\") \n",
    "n=int(input()) \n",
    "D=TaoMaTran(m,n) \n",
    "XuatMaTran(D) \n",
    "print(\"Mời bạn nhập dòng muốn xuất:\") \n",
    "r=int(input()) \n",
    "XuatList1Chieu(LayDong(r)) \n",
    "print(\"\\n\")\n",
    "print(\"Mời bạn nhập cột muốn xuất:\") \n",
    "c=int(input()) \n",
    "XuatList1Chieu(LayCot(c)) \n",
    "print(\"\\n\")\n",
    "max=MAX(D) \n",
    "print(\"Số lớn nhất trong ma trận=\",max)"
   ]
  },
  {
   "cell_type": "markdown",
   "id": "2e2d1874",
   "metadata": {},
   "source": [
    "#Cau4\n",
    "lst[0]=3\n",
    "lst[3]=5\n",
    "lst[x]=1\n",
    "lst[-x]=5\n",
    "lst[x+1]=5\n",
    "lst[x]+1=6\n",
    "lst[lst[x]]=0\n",
    "lst[lst[lst[x]]]=3\n"
   ]
  },
  {
   "cell_type": "markdown",
   "id": "8d3f84f3",
   "metadata": {},
   "source": [
    "#Cau5\n",
    "(a) lst = [20, 1, -34, 40, -8, 60, 1, 3]\n",
    "(b) lst[0:3] = [20, 1, -34]\n",
    "(c) lst[4:8] =  [20, 1, -34]\n",
    "(d) lst[4:33] = [-8, 60, 1, 3]\n",
    "(e) lst[-5:-3] = [40, -8]\n",
    "(f) lst[-22:3] = [20, 1, -34]\n",
    "(g) lst[4:] = [-8, 60, 1, 3]\n",
    "(h) lst[:] =[20, 1, -34, 40, -8, 60, 1, 3]\n",
    "(i) lst[:4] = [20, 1, -34, 40]\n",
    "(j) lst[1:5] = [1, -34, 40, -8]\n",
    "(k) -34 in lst = True\n",
    "(l) -34 not in lst = False\n",
    "(m) len(lst) = 8"
   ]
  },
  {
   "cell_type": "code",
   "execution_count": null,
   "id": "18929486",
   "metadata": {},
   "outputs": [
    {
     "name": "stdout",
     "output_type": "stream",
     "text": [
      "List sau khi xóa các phần tử trùng nhau:\n",
      "[33, 44, 59, 14, 91]\n"
     ]
    }
   ],
   "source": [
    "#Cau6\n",
    "from random import randrange\n",
    "n=int(input(\"Nhập số phần tử:\"))\n",
    "lst=[]\n",
    "for i in range(n):\n",
    "    x=randrange(0,100)\n",
    "    lst.append(x)\n",
    "for i in range(len(lst)-1):\n",
    "    if lst[i]==lst[i+1]:\n",
    "        for j in range(i+1,n):\n",
    "            lst[j]=lst[j+1]\n",
    "        n-=1\n",
    "print(\"List có N số nguyên không trùng nhau:\")\n",
    "print(lst)\n",
    "    "
   ]
  },
  {
   "cell_type": "code",
   "execution_count": 1,
   "id": "b0604b3d",
   "metadata": {},
   "outputs": [
    {
     "name": "stdout",
     "output_type": "stream",
     "text": [
      "Phần tử phải lớn hơn phần tử trước đó. Dừng nhập.\n",
      "List sau khi nhập là:\n",
      "[1, 2]\n"
     ]
    }
   ],
   "source": [
    "#Cau7\n",
    "lst = []\n",
    "n = int(input(\"Nhập số phần tử: \"))\n",
    "\n",
    "for i in range(n):\n",
    "    x = int(input(\"Nhập phần tử: \"))\n",
    "    if i > 0 and x <= lst[-1]:\n",
    "        print(\"Phần tử phải lớn hơn phần tử trước đó. Dừng nhập.\")\n",
    "        break\n",
    "    lst.append(x)\n",
    "\n",
    "print(\"List sau khi nhập là:\")\n",
    "print(lst)\n"
   ]
  },
  {
   "cell_type": "code",
   "execution_count": 12,
   "id": "568a907c",
   "metadata": {},
   "outputs": [
    {
     "name": "stdout",
     "output_type": "stream",
     "text": [
      "List sau khi sắp xếp là:\n",
      "[1, 2, 3, 4, 5]\n"
     ]
    }
   ],
   "source": [
    "#Cau8\n",
    "lst=[]\n",
    "n=int(input(\"Nhập số phần tử:\"))\n",
    "for i in range(n):\n",
    "    x=int(input(\"Nhập phần tử:\"))\n",
    "    lst.append(x)\n",
    "for i in range(len(lst)-1):\n",
    "    for j in range(i+1,len(lst)):\n",
    "        if lst[i]>lst[j]:\n",
    "            lst[i],lst[j]=lst[j],lst[i]\n",
    "print(\"List sau khi sắp xếp là:\")\n",
    "print(lst)"
   ]
  },
  {
   "cell_type": "code",
   "execution_count": 15,
   "id": "e45c0d87",
   "metadata": {},
   "outputs": [
    {
     "name": "stdout",
     "output_type": "stream",
     "text": [
      "Có 3 số lẻ trong list:  [1, 3, 5]\n",
      "Có 2 số chẵn trong list:  [2, 4]\n",
      "Các số nguyên tố trong list: [2, 3, 5]\n",
      "Các số không phải số nguyên tố trong list: [1, 4]\n"
     ]
    }
   ],
   "source": [
    "#Cau9\n",
    "lst=[]\n",
    "n=int(input(\"Nhập số phần tử:\"))\n",
    "for i in range(n):\n",
    "    x=int(input(\"Nhập phần tử:\"))\n",
    "    lst.append(x)\n",
    "demle=0\n",
    "LstLe=[]\n",
    "for x in lst:\n",
    "    if x%2!=0:\n",
    "        demle+=1\n",
    "        LstLe.append(x)\n",
    "print(\"Có\",demle,\"số lẻ trong list: \",LstLe)\n",
    "demchan=0\n",
    "LstChan=[]\n",
    "for x in lst:\n",
    "    if x%2==0:\n",
    "        demchan+=1\n",
    "        LstChan.append(x)\n",
    "print(\"Có\",demchan,\"số chẵn trong list: \",LstChan)\n",
    "LstSNT=[]\n",
    "LstKSNT=[]\n",
    "def CheckSNT(n):\n",
    "    if n<2:\n",
    "        return False\n",
    "    for i in range(2,int(n**0.5)+1):\n",
    "        if n%i==0:\n",
    "            return False\n",
    "    return True\n",
    "for x in lst:\n",
    "    if CheckSNT(x):\n",
    "        LstSNT.append(x)\n",
    "    else:\n",
    "        LstKSNT.append(x)\n",
    "print(\"Các số nguyên tố trong list:\",LstSNT)\n",
    "print(\"Các số không phải số nguyên tố trong list:\",LstKSNT)"
   ]
  },
  {
   "cell_type": "code",
   "execution_count": 22,
   "id": "c52d6243",
   "metadata": {},
   "outputs": [
    {
     "name": "stdout",
     "output_type": "stream",
     "text": [
      "Ma trận A:\n",
      "1\t2\t\n",
      "4\t5\t\n",
      "Ma trận B:\n",
      "3\t2\t\n",
      "1\t6\t\n",
      "Ma trận C=A+B:\n",
      "4\t4\t\n",
      "5\t11\t\n",
      "Ma trận A sau khi hoán vị:\n",
      "2\t1\t\n",
      "5\t4\t\n",
      "Ma trận B sau khi hoán vị:\n",
      "2\t3\t\n",
      "6\t1\t\n"
     ]
    }
   ],
   "source": [
    "#Cau10\n",
    "def NhapMaTran():\n",
    "    A=[]\n",
    "    a=int(input(\"Nhập số dòng:\"))\n",
    "    b=int(input(\"Nhập số cột:\"))\n",
    "    for i in range(a):\n",
    "        row=[]\n",
    "        for j in range(b):\n",
    "            x=int(input(f\"Nhập phần tử A[{i}][{j}]:\"))\n",
    "            row.append(x)\n",
    "        A.append(row)\n",
    "    return A\n",
    "def XuatMaTran(M):\n",
    "    for row in M:\n",
    "        for element in row:\n",
    "            print(element,end='\\t')\n",
    "        print()\n",
    "def MatrixHoanVi(A):\n",
    "    for i in range(len(A)):\n",
    "        for j in range(len(A[0])//2):\n",
    "            A[i][j],A[i][len(A[0])-j-1]=A[i][len(A[0])-j-1],A[i][j]\n",
    "    return A\n",
    "A=NhapMaTran()\n",
    "B=NhapMaTran()\n",
    "print(\"Ma trận A:\")\n",
    "XuatMaTran(A)\n",
    "print(\"Ma trận B:\")\n",
    "XuatMaTran(B)\n",
    "def CongMaTran(A,B):\n",
    "    if len(A)!=len(B) or len(A[0])!=len(B[0]):\n",
    "        return None\n",
    "    C=[]\n",
    "    for i in range(len(A)):\n",
    "        row=[]\n",
    "        for j in range(len(A[0])):\n",
    "            row.append(A[i][j]+B[i][j])\n",
    "        C.append(row)\n",
    "    return C\n",
    "C=CongMaTran(A,B)\n",
    "print(\"Ma trận C=A+B:\")\n",
    "if C is not None:\n",
    "    XuatMaTran(C)\n",
    "else:\n",
    "    print(\"Không thể cộng hai ma trận do kích thước không khớp.\")\n",
    "print(\"Ma trận A sau khi hoán vị:\")\n",
    "A_hoanvi=MatrixHoanVi(A)\n",
    "XuatMaTran(A_hoanvi)\n",
    "print(\"Ma trận B sau khi hoán vị:\")\n",
    "B_hoanvi=MatrixHoanVi(B)\n",
    "XuatMaTran(B_hoanvi)\n",
    "\n"
   ]
  }
 ],
 "metadata": {
  "kernelspec": {
   "display_name": "Python 3",
   "language": "python",
   "name": "python3"
  },
  "language_info": {
   "codemirror_mode": {
    "name": "ipython",
    "version": 3
   },
   "file_extension": ".py",
   "mimetype": "text/x-python",
   "name": "python",
   "nbconvert_exporter": "python",
   "pygments_lexer": "ipython3",
   "version": "3.13.7"
  }
 },
 "nbformat": 4,
 "nbformat_minor": 5
}
