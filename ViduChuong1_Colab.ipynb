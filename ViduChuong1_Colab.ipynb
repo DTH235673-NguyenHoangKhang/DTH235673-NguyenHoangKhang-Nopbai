{
 "cells": [
  {
   "cell_type": "code",
   "execution_count": 3,
   "metadata": {
    "colab": {
     "base_uri": "https://localhost:8080/"
    },
    "executionInfo": {
     "elapsed": 32,
     "status": "ok",
     "timestamp": 1756176757844,
     "user": {
      "displayName": "K N",
      "userId": "00303729587750982845"
     },
     "user_tz": -420
    },
    "id": "8XcGHHtdQbAO",
    "outputId": "c65bd261-21ad-4f64-e9db-b6dd978618ad"
   },
   "outputs": [
    {
     "name": "stdout",
     "output_type": "stream",
     "text": [
      "Hello world\n"
     ]
    }
   ],
   "source": [
    "print('Hello world')"
   ]
  },
  {
   "cell_type": "code",
   "execution_count": 4,
   "metadata": {
    "colab": {
     "base_uri": "https://localhost:8080/"
    },
    "executionInfo": {
     "elapsed": 52,
     "status": "ok",
     "timestamp": 1756176757893,
     "user": {
      "displayName": "K N",
      "userId": "00303729587750982845"
     },
     "user_tz": -420
    },
    "id": "cawSe17HRB9l",
    "outputId": "be0ee677-8418-45c7-9a4d-47a3d045d1d8"
   },
   "outputs": [
    {
     "name": "stdout",
     "output_type": "stream",
     "text": [
      "Five is greater than two\n"
     ]
    }
   ],
   "source": [
    "if (5>2): print('Five is greater than two')"
   ]
  },
  {
   "cell_type": "code",
   "execution_count": 5,
   "metadata": {
    "colab": {
     "base_uri": "https://localhost:8080/"
    },
    "executionInfo": {
     "elapsed": 52,
     "status": "ok",
     "timestamp": 1756176757942,
     "user": {
      "displayName": "K N",
      "userId": "00303729587750982845"
     },
     "user_tz": -420
    },
    "id": "vOJaYySxRSuZ",
    "outputId": "ae820e2c-26ac-482c-9121-f65c21f5197e"
   },
   "outputs": [
    {
     "name": "stdout",
     "output_type": "stream",
     "text": [
      "6\n",
      "Hello Python!\n"
     ]
    }
   ],
   "source": [
    "total = 1+\\\n",
    "2+\\\n",
    "+3\n",
    "print(total);print('Hello Python!')"
   ]
  },
  {
   "cell_type": "code",
   "execution_count": 6,
   "metadata": {
    "colab": {
     "base_uri": "https://localhost:8080/"
    },
    "executionInfo": {
     "elapsed": 11,
     "status": "ok",
     "timestamp": 1756176757957,
     "user": {
      "displayName": "K N",
      "userId": "00303729587750982845"
     },
     "user_tz": -420
    },
    "id": "YAjWuIkQRhWT",
    "outputId": "88e659f1-f217-4932-eb03-21fc153e505d"
   },
   "outputs": [
    {
     "name": "stdout",
     "output_type": "stream",
     "text": [
      "True\n"
     ]
    }
   ],
   "source": [
    "if True:\n",
    "    print('True')\n",
    "else:\n",
    "    print('False')"
   ]
  },
  {
   "cell_type": "code",
   "execution_count": 7,
   "metadata": {
    "colab": {
     "base_uri": "https://localhost:8080/"
    },
    "executionInfo": {
     "elapsed": 41,
     "status": "ok",
     "timestamp": 1756176758002,
     "user": {
      "displayName": "K N",
      "userId": "00303729587750982845"
     },
     "user_tz": -420
    },
    "id": "sjtPiBO9RsLZ",
    "outputId": "5b79aba5-d1d2-43a8-ab90-67a13062257e"
   },
   "outputs": [
    {
     "name": "stdout",
     "output_type": "stream",
     "text": [
      "Hello, world!\n"
     ]
    }
   ],
   "source": [
    "#This is a comment\n",
    "print('Hello, world!')"
   ]
  },
  {
   "cell_type": "code",
   "execution_count": 8,
   "metadata": {
    "executionInfo": {
     "elapsed": 38,
     "status": "ok",
     "timestamp": 1756176758006,
     "user": {
      "displayName": "K N",
      "userId": "00303729587750982845"
     },
     "user_tz": -420
    },
    "id": "xpKWRxRuSAH1"
   },
   "outputs": [],
   "source": [
    "import math\n",
    "import os"
   ]
  },
  {
   "cell_type": "code",
   "execution_count": 9,
   "metadata": {
    "executionInfo": {
     "elapsed": 17,
     "status": "ok",
     "timestamp": 1756176758013,
     "user": {
      "displayName": "K N",
      "userId": "00303729587750982845"
     },
     "user_tz": -420
    },
    "id": "XwxSoJdLSQQP"
   },
   "outputs": [],
   "source": [
    "def add(a,b):\n",
    "  result = a+b\n",
    "  return result"
   ]
  },
  {
   "cell_type": "code",
   "execution_count": 10,
   "metadata": {},
   "outputs": [
    {
     "name": "stdout",
     "output_type": "stream",
     "text": [
      "15\n"
     ]
    }
   ],
   "source": [
    "a=5\n",
    "b=10\n",
    "print(a+b)"
   ]
  }
 ],
 "metadata": {
  "colab": {
   "authorship_tag": "ABX9TyNeGJdfyOHyjn6N5Wb9F94C",
   "provenance": []
  },
  "kernelspec": {
   "display_name": "Python 3",
   "name": "python3"
  },
  "language_info": {
   "codemirror_mode": {
    "name": "ipython",
    "version": 3
   },
   "file_extension": ".py",
   "mimetype": "text/x-python",
   "name": "python",
   "nbconvert_exporter": "python",
   "pygments_lexer": "ipython3",
   "version": "3.13.7"
  }
 },
 "nbformat": 4,
 "nbformat_minor": 0
}
